{
 "cells": [
  {
   "cell_type": "markdown",
   "metadata": {},
   "source": [
    "# COVID-19 Analysis and Prediction: A Modified SEIR infectious Model\n",
    "\n",
    "## Table of Contents\n",
    "<ul>\n",
    "    <li><a href=\"#introduction\">Introduction</a></li>\n",
    "    <li><a href=\"#data_wrangling\">Data Wrangling</a></li>\n",
    "    <li><a href=\"#eda\">Exploratory Data Analysis</a></li>\n",
    "    <li><a href=\"#conclusion\">Conclusions</a></li>\n",
    "</ul>"
   ]
  },
  {
   "cell_type": "markdown",
   "metadata": {},
   "source": [
    "<a id=\"introduction\"></a>\n",
    "## Introduction\n",
    "\n",
    "The pandemics of COVID-19 in 2020 changed the life of everyone in the world. It is caused by a coronavirus called SARS-CoV-2. Different from most of other infectious disease, people who are infected with COVID-19 but do not exhibit symptoms can also spread the virus to others. Older adults and people who have severe underlying medical conditions like heart or lung disease or diabetes seem to be at higher risk for developing more serious complications from COVID-19 illness. As COVID-19 continues to spread across the country and the world, we should remain calm and take actions to slow down its spreading.\n",
    "\n",
    "Here, we modified the SEIR model to accounts for the different infection feature of COVID-19 and the \"lockdown\" rules applied to most places. We studied three of the most serious countries: US, Italy, and France. This model fits the infection ratio and recover ratio very well."
   ]
  },
  {
   "cell_type": "markdown",
   "metadata": {},
   "source": [
    "I am keep working on this notebook and learning from the community. If you have any comments or questions, I'm happy to hear and answer.\n"
   ]
  },
  {
   "cell_type": "markdown",
   "metadata": {},
   "source": [
    "<a id=\"data_wrangling\"></a>\n",
    "## Data wrangling\n",
    "### Import packages"
   ]
  },
  {
   "cell_type": "code",
   "execution_count": 1,
   "metadata": {},
   "outputs": [],
   "source": [
    "# Algebra\n",
    "import numpy as np\n",
    "\n",
    "# Dataframe\n",
    "import pandas as pd\n",
    "\n",
    "# Missing Analysis\n",
    "import missingno as msno\n",
    "\n",
    "# Modelling\n",
    "from scipy import integrate\n",
    "from scipy import optimize\n",
    "\n",
    "# Plotting\n",
    "import matplotlib.pyplot as plt\n",
    "%matplotlib inline\n",
    "import seaborn as sns\n",
    "\n",
    "# Map\n",
    "import folium\n",
    "\n",
    "# Datetime\n",
    "from datetime import datetime"
   ]
  },
  {
   "cell_type": "markdown",
   "metadata": {},
   "source": [
    "### Import datasets"
   ]
  },
  {
   "cell_type": "markdown",
   "metadata": {},
   "source": [
    "Date source:\n",
    "COVID-19 Data Repository by the Center for Systems Science and Engineering (CSSE) at Johns Hopkins University ([GitHub link](https://github.com/CSSEGISandData/COVID-19))"
   ]
  },
  {
   "cell_type": "code",
   "execution_count": 2,
   "metadata": {},
   "outputs": [],
   "source": [
    "# Global cases\n",
    "global_confirm_csv = 'https://raw.githubusercontent.com/CSSEGISandData/COVID-19/master/csse_covid_19_data/csse_covid_19_time_series/time_series_covid19_confirmed_global.csv'\n",
    "global_death_csv = 'https://raw.githubusercontent.com/CSSEGISandData/COVID-19/master/csse_covid_19_data/csse_covid_19_time_series/time_series_covid19_deaths_global.csv'\n",
    "global_recover_csv = 'https://raw.githubusercontent.com/CSSEGISandData/COVID-19/master/csse_covid_19_data/csse_covid_19_time_series/time_series_covid19_recovered_global.csv'\n",
    "# US cases\n",
    "us_confirm_csv = 'https://raw.githubusercontent.com/CSSEGISandData/COVID-19/master/csse_covid_19_data/csse_covid_19_time_series/time_series_covid19_confirmed_US.csv'\n",
    "us_death_csv = 'https://raw.githubusercontent.com/CSSEGISandData/COVID-19/master/csse_covid_19_data/csse_covid_19_time_series/time_series_covid19_deaths_US.csv'\n",
    "us_state_loc_csv = 'https://gist.githubusercontent.com/mbostock/9535021/raw/eaed7e5632735a6609f02d0ba0e55c031e14200d/us-state-capitals.csv'"
   ]
  },
  {
   "cell_type": "code",
   "execution_count": 3,
   "metadata": {},
   "outputs": [],
   "source": [
    "Confirmed = pd.read_csv(global_confirm_csv)\n",
    "Death = pd.read_csv(global_death_csv) \n",
    "Recovered = pd.read_csv(global_recover_csv)\n",
    "Confirmed_us = pd.read_csv(us_confirm_csv)\n",
    "Death_us = pd.read_csv(us_death_csv)\n",
    "us_state_location = pd.read_csv(us_state_loc_csv)"
   ]
  },
  {
   "cell_type": "markdown",
   "metadata": {},
   "source": [
    "### Data cleaning"
   ]
  },
  {
   "cell_type": "markdown",
   "metadata": {},
   "source": [
    "Settings to show the full dataset when print()"
   ]
  },
  {
   "cell_type": "code",
   "execution_count": 5,
   "metadata": {},
   "outputs": [],
   "source": [
    "pd.set_option('display.max_rows', None)\n",
    "pd.set_option('display.max_columns', None)\n",
    "pd.set_option('display.width', None)\n",
    "pd.set_option('display.max_colwidth', None)"
   ]
  },
  {
   "cell_type": "markdown",
   "metadata": {},
   "source": [
    "#### Global cases"
   ]
  },
  {
   "cell_type": "markdown",
   "metadata": {},
   "source": [
    "remove unnecessary columns"
   ]
  },
  {
   "cell_type": "code",
   "execution_count": 4,
   "metadata": {},
   "outputs": [],
   "source": [
    "# Global cases\n",
    "Confirmed.drop(axis=1, inplace=True, columns=['Province/State', 'Lat', 'Long'])\n",
    "Death.drop(axis=1, inplace=True, columns=['Province/State', 'Lat', 'Long'])\n",
    "Recovered.drop(axis=1, inplace=True, columns=['Province/State', 'Lat', 'Long'])"
   ]
  },
  {
   "cell_type": "code",
   "execution_count": 5,
   "metadata": {},
   "outputs": [
    {
     "data": {
      "text/html": [
       "<div>\n",
       "<style scoped>\n",
       "    .dataframe tbody tr th:only-of-type {\n",
       "        vertical-align: middle;\n",
       "    }\n",
       "\n",
       "    .dataframe tbody tr th {\n",
       "        vertical-align: top;\n",
       "    }\n",
       "\n",
       "    .dataframe thead th {\n",
       "        text-align: right;\n",
       "    }\n",
       "</style>\n",
       "<table border=\"1\" class=\"dataframe\">\n",
       "  <thead>\n",
       "    <tr style=\"text-align: right;\">\n",
       "      <th></th>\n",
       "      <th>Country/Region</th>\n",
       "      <th>1/22/20</th>\n",
       "      <th>1/23/20</th>\n",
       "      <th>1/24/20</th>\n",
       "      <th>1/25/20</th>\n",
       "      <th>1/26/20</th>\n",
       "      <th>1/27/20</th>\n",
       "      <th>1/28/20</th>\n",
       "      <th>1/29/20</th>\n",
       "      <th>1/30/20</th>\n",
       "      <th>...</th>\n",
       "      <th>10/28/20</th>\n",
       "      <th>10/29/20</th>\n",
       "      <th>10/30/20</th>\n",
       "      <th>10/31/20</th>\n",
       "      <th>11/1/20</th>\n",
       "      <th>11/2/20</th>\n",
       "      <th>11/3/20</th>\n",
       "      <th>11/4/20</th>\n",
       "      <th>11/5/20</th>\n",
       "      <th>11/6/20</th>\n",
       "    </tr>\n",
       "  </thead>\n",
       "  <tbody>\n",
       "    <tr>\n",
       "      <th>0</th>\n",
       "      <td>Afghanistan</td>\n",
       "      <td>0</td>\n",
       "      <td>0</td>\n",
       "      <td>0</td>\n",
       "      <td>0</td>\n",
       "      <td>0</td>\n",
       "      <td>0</td>\n",
       "      <td>0</td>\n",
       "      <td>0</td>\n",
       "      <td>0</td>\n",
       "      <td>...</td>\n",
       "      <td>41145</td>\n",
       "      <td>41268</td>\n",
       "      <td>41334</td>\n",
       "      <td>41425</td>\n",
       "      <td>41501</td>\n",
       "      <td>41633</td>\n",
       "      <td>41728</td>\n",
       "      <td>41814</td>\n",
       "      <td>41935</td>\n",
       "      <td>41975</td>\n",
       "    </tr>\n",
       "    <tr>\n",
       "      <th>1</th>\n",
       "      <td>Albania</td>\n",
       "      <td>0</td>\n",
       "      <td>0</td>\n",
       "      <td>0</td>\n",
       "      <td>0</td>\n",
       "      <td>0</td>\n",
       "      <td>0</td>\n",
       "      <td>0</td>\n",
       "      <td>0</td>\n",
       "      <td>0</td>\n",
       "      <td>...</td>\n",
       "      <td>20040</td>\n",
       "      <td>20315</td>\n",
       "      <td>20634</td>\n",
       "      <td>20875</td>\n",
       "      <td>21202</td>\n",
       "      <td>21523</td>\n",
       "      <td>21904</td>\n",
       "      <td>22300</td>\n",
       "      <td>22721</td>\n",
       "      <td>23210</td>\n",
       "    </tr>\n",
       "    <tr>\n",
       "      <th>2</th>\n",
       "      <td>Algeria</td>\n",
       "      <td>0</td>\n",
       "      <td>0</td>\n",
       "      <td>0</td>\n",
       "      <td>0</td>\n",
       "      <td>0</td>\n",
       "      <td>0</td>\n",
       "      <td>0</td>\n",
       "      <td>0</td>\n",
       "      <td>0</td>\n",
       "      <td>...</td>\n",
       "      <td>57026</td>\n",
       "      <td>57332</td>\n",
       "      <td>57651</td>\n",
       "      <td>57942</td>\n",
       "      <td>58272</td>\n",
       "      <td>58574</td>\n",
       "      <td>58979</td>\n",
       "      <td>59527</td>\n",
       "      <td>60169</td>\n",
       "      <td>60800</td>\n",
       "    </tr>\n",
       "    <tr>\n",
       "      <th>3</th>\n",
       "      <td>Andorra</td>\n",
       "      <td>0</td>\n",
       "      <td>0</td>\n",
       "      <td>0</td>\n",
       "      <td>0</td>\n",
       "      <td>0</td>\n",
       "      <td>0</td>\n",
       "      <td>0</td>\n",
       "      <td>0</td>\n",
       "      <td>0</td>\n",
       "      <td>...</td>\n",
       "      <td>4517</td>\n",
       "      <td>4567</td>\n",
       "      <td>4665</td>\n",
       "      <td>4756</td>\n",
       "      <td>4825</td>\n",
       "      <td>4888</td>\n",
       "      <td>4910</td>\n",
       "      <td>5045</td>\n",
       "      <td>5135</td>\n",
       "      <td>5135</td>\n",
       "    </tr>\n",
       "    <tr>\n",
       "      <th>4</th>\n",
       "      <td>Angola</td>\n",
       "      <td>0</td>\n",
       "      <td>0</td>\n",
       "      <td>0</td>\n",
       "      <td>0</td>\n",
       "      <td>0</td>\n",
       "      <td>0</td>\n",
       "      <td>0</td>\n",
       "      <td>0</td>\n",
       "      <td>0</td>\n",
       "      <td>...</td>\n",
       "      <td>10074</td>\n",
       "      <td>10269</td>\n",
       "      <td>10558</td>\n",
       "      <td>10805</td>\n",
       "      <td>11035</td>\n",
       "      <td>11228</td>\n",
       "      <td>11577</td>\n",
       "      <td>11813</td>\n",
       "      <td>12102</td>\n",
       "      <td>12223</td>\n",
       "    </tr>\n",
       "    <tr>\n",
       "      <th>...</th>\n",
       "      <td>...</td>\n",
       "      <td>...</td>\n",
       "      <td>...</td>\n",
       "      <td>...</td>\n",
       "      <td>...</td>\n",
       "      <td>...</td>\n",
       "      <td>...</td>\n",
       "      <td>...</td>\n",
       "      <td>...</td>\n",
       "      <td>...</td>\n",
       "      <td>...</td>\n",
       "      <td>...</td>\n",
       "      <td>...</td>\n",
       "      <td>...</td>\n",
       "      <td>...</td>\n",
       "      <td>...</td>\n",
       "      <td>...</td>\n",
       "      <td>...</td>\n",
       "      <td>...</td>\n",
       "      <td>...</td>\n",
       "      <td>...</td>\n",
       "    </tr>\n",
       "    <tr>\n",
       "      <th>263</th>\n",
       "      <td>West Bank and Gaza</td>\n",
       "      <td>0</td>\n",
       "      <td>0</td>\n",
       "      <td>0</td>\n",
       "      <td>0</td>\n",
       "      <td>0</td>\n",
       "      <td>0</td>\n",
       "      <td>0</td>\n",
       "      <td>0</td>\n",
       "      <td>0</td>\n",
       "      <td>...</td>\n",
       "      <td>51948</td>\n",
       "      <td>52571</td>\n",
       "      <td>53075</td>\n",
       "      <td>53520</td>\n",
       "      <td>54060</td>\n",
       "      <td>54775</td>\n",
       "      <td>55408</td>\n",
       "      <td>56090</td>\n",
       "      <td>56672</td>\n",
       "      <td>57226</td>\n",
       "    </tr>\n",
       "    <tr>\n",
       "      <th>264</th>\n",
       "      <td>Western Sahara</td>\n",
       "      <td>0</td>\n",
       "      <td>0</td>\n",
       "      <td>0</td>\n",
       "      <td>0</td>\n",
       "      <td>0</td>\n",
       "      <td>0</td>\n",
       "      <td>0</td>\n",
       "      <td>0</td>\n",
       "      <td>0</td>\n",
       "      <td>...</td>\n",
       "      <td>10</td>\n",
       "      <td>10</td>\n",
       "      <td>10</td>\n",
       "      <td>10</td>\n",
       "      <td>10</td>\n",
       "      <td>10</td>\n",
       "      <td>10</td>\n",
       "      <td>10</td>\n",
       "      <td>10</td>\n",
       "      <td>10</td>\n",
       "    </tr>\n",
       "    <tr>\n",
       "      <th>265</th>\n",
       "      <td>Yemen</td>\n",
       "      <td>0</td>\n",
       "      <td>0</td>\n",
       "      <td>0</td>\n",
       "      <td>0</td>\n",
       "      <td>0</td>\n",
       "      <td>0</td>\n",
       "      <td>0</td>\n",
       "      <td>0</td>\n",
       "      <td>0</td>\n",
       "      <td>...</td>\n",
       "      <td>2061</td>\n",
       "      <td>2062</td>\n",
       "      <td>2062</td>\n",
       "      <td>2063</td>\n",
       "      <td>2063</td>\n",
       "      <td>2063</td>\n",
       "      <td>2063</td>\n",
       "      <td>2063</td>\n",
       "      <td>2063</td>\n",
       "      <td>2067</td>\n",
       "    </tr>\n",
       "    <tr>\n",
       "      <th>266</th>\n",
       "      <td>Zambia</td>\n",
       "      <td>0</td>\n",
       "      <td>0</td>\n",
       "      <td>0</td>\n",
       "      <td>0</td>\n",
       "      <td>0</td>\n",
       "      <td>0</td>\n",
       "      <td>0</td>\n",
       "      <td>0</td>\n",
       "      <td>0</td>\n",
       "      <td>...</td>\n",
       "      <td>16285</td>\n",
       "      <td>16325</td>\n",
       "      <td>16415</td>\n",
       "      <td>16432</td>\n",
       "      <td>16480</td>\n",
       "      <td>16543</td>\n",
       "      <td>16661</td>\n",
       "      <td>16698</td>\n",
       "      <td>16770</td>\n",
       "      <td>16819</td>\n",
       "    </tr>\n",
       "    <tr>\n",
       "      <th>267</th>\n",
       "      <td>Zimbabwe</td>\n",
       "      <td>0</td>\n",
       "      <td>0</td>\n",
       "      <td>0</td>\n",
       "      <td>0</td>\n",
       "      <td>0</td>\n",
       "      <td>0</td>\n",
       "      <td>0</td>\n",
       "      <td>0</td>\n",
       "      <td>0</td>\n",
       "      <td>...</td>\n",
       "      <td>8320</td>\n",
       "      <td>8349</td>\n",
       "      <td>8362</td>\n",
       "      <td>8367</td>\n",
       "      <td>8374</td>\n",
       "      <td>8389</td>\n",
       "      <td>8410</td>\n",
       "      <td>8427</td>\n",
       "      <td>8444</td>\n",
       "      <td>8471</td>\n",
       "    </tr>\n",
       "  </tbody>\n",
       "</table>\n",
       "<p>268 rows × 291 columns</p>\n",
       "</div>"
      ],
      "text/plain": [
       "         Country/Region  1/22/20  1/23/20  1/24/20  1/25/20  1/26/20  1/27/20  \\\n",
       "0           Afghanistan        0        0        0        0        0        0   \n",
       "1               Albania        0        0        0        0        0        0   \n",
       "2               Algeria        0        0        0        0        0        0   \n",
       "3               Andorra        0        0        0        0        0        0   \n",
       "4                Angola        0        0        0        0        0        0   \n",
       "..                  ...      ...      ...      ...      ...      ...      ...   \n",
       "263  West Bank and Gaza        0        0        0        0        0        0   \n",
       "264      Western Sahara        0        0        0        0        0        0   \n",
       "265               Yemen        0        0        0        0        0        0   \n",
       "266              Zambia        0        0        0        0        0        0   \n",
       "267            Zimbabwe        0        0        0        0        0        0   \n",
       "\n",
       "     1/28/20  1/29/20  1/30/20  ...  10/28/20  10/29/20  10/30/20  10/31/20  \\\n",
       "0          0        0        0  ...     41145     41268     41334     41425   \n",
       "1          0        0        0  ...     20040     20315     20634     20875   \n",
       "2          0        0        0  ...     57026     57332     57651     57942   \n",
       "3          0        0        0  ...      4517      4567      4665      4756   \n",
       "4          0        0        0  ...     10074     10269     10558     10805   \n",
       "..       ...      ...      ...  ...       ...       ...       ...       ...   \n",
       "263        0        0        0  ...     51948     52571     53075     53520   \n",
       "264        0        0        0  ...        10        10        10        10   \n",
       "265        0        0        0  ...      2061      2062      2062      2063   \n",
       "266        0        0        0  ...     16285     16325     16415     16432   \n",
       "267        0        0        0  ...      8320      8349      8362      8367   \n",
       "\n",
       "     11/1/20  11/2/20  11/3/20  11/4/20  11/5/20  11/6/20  \n",
       "0      41501    41633    41728    41814    41935    41975  \n",
       "1      21202    21523    21904    22300    22721    23210  \n",
       "2      58272    58574    58979    59527    60169    60800  \n",
       "3       4825     4888     4910     5045     5135     5135  \n",
       "4      11035    11228    11577    11813    12102    12223  \n",
       "..       ...      ...      ...      ...      ...      ...  \n",
       "263    54060    54775    55408    56090    56672    57226  \n",
       "264       10       10       10       10       10       10  \n",
       "265     2063     2063     2063     2063     2063     2067  \n",
       "266    16480    16543    16661    16698    16770    16819  \n",
       "267     8374     8389     8410     8427     8444     8471  \n",
       "\n",
       "[268 rows x 291 columns]"
      ]
     },
     "metadata": {},
     "output_type": "display_data"
    }
   ],
   "source": [
    "display(Confirmed)"
   ]
  },
  {
   "cell_type": "code",
   "execution_count": 6,
   "metadata": {},
   "outputs": [],
   "source": [
    "# function to extract the data of different cases in different country\n",
    "def extract_national_data(df, country, case):\n",
    "    df_extract = df[df['Country/Region'] == country].sum(axis=0)\n",
    "    df_extract = df_extract.T.reset_index()\n",
    "    df_extract = df_extract.iloc[1:]\n",
    "    df_extract.columns = ['date', case]\n",
    "    df_extract.date = pd.to_datetime(df_extract.date)\n",
    "    return df_extract"
   ]
  },
  {
   "cell_type": "code",
   "execution_count": 7,
   "metadata": {},
   "outputs": [],
   "source": [
    "# function to join three types of cases in one country\n",
    "def join_national_data(confirmed, death, recovered):\n",
    "    total_case = confirmed.join(death.set_index('date'), on='date').join(recovered.set_index('date'), on='date')\n",
    "    total_case.reset_index(inplace=True, drop=True)\n",
    "    return total_case"
   ]
  },
  {
   "cell_type": "markdown",
   "metadata": {},
   "source": [
    "### US"
   ]
  },
  {
   "cell_type": "code",
   "execution_count": 10,
   "metadata": {},
   "outputs": [],
   "source": [
    "us_confirmed = extract_national_data(Confirmed, 'US', 'positive')\n",
    "us_death = extract_national_data(Death, 'US', 'death')\n",
    "us_recovered = extract_national_data(Recovered, 'US', 'recovered')"
   ]
  },
  {
   "cell_type": "code",
   "execution_count": 11,
   "metadata": {},
   "outputs": [],
   "source": [
    "us_status = join_national_data(us_confirmed, us_death, us_recovered)"
   ]
  },
  {
   "cell_type": "code",
   "execution_count": 13,
   "metadata": {},
   "outputs": [
    {
     "data": {
      "text/html": [
       "<div>\n",
       "<style scoped>\n",
       "    .dataframe tbody tr th:only-of-type {\n",
       "        vertical-align: middle;\n",
       "    }\n",
       "\n",
       "    .dataframe tbody tr th {\n",
       "        vertical-align: top;\n",
       "    }\n",
       "\n",
       "    .dataframe thead th {\n",
       "        text-align: right;\n",
       "    }\n",
       "</style>\n",
       "<table border=\"1\" class=\"dataframe\">\n",
       "  <thead>\n",
       "    <tr style=\"text-align: right;\">\n",
       "      <th></th>\n",
       "      <th>date</th>\n",
       "      <th>positive</th>\n",
       "      <th>death</th>\n",
       "      <th>recovered</th>\n",
       "    </tr>\n",
       "  </thead>\n",
       "  <tbody>\n",
       "    <tr>\n",
       "      <th>0</th>\n",
       "      <td>2020-01-22</td>\n",
       "      <td>1</td>\n",
       "      <td>0</td>\n",
       "      <td>0</td>\n",
       "    </tr>\n",
       "    <tr>\n",
       "      <th>1</th>\n",
       "      <td>2020-01-23</td>\n",
       "      <td>1</td>\n",
       "      <td>0</td>\n",
       "      <td>0</td>\n",
       "    </tr>\n",
       "    <tr>\n",
       "      <th>2</th>\n",
       "      <td>2020-01-24</td>\n",
       "      <td>2</td>\n",
       "      <td>0</td>\n",
       "      <td>0</td>\n",
       "    </tr>\n",
       "    <tr>\n",
       "      <th>3</th>\n",
       "      <td>2020-01-25</td>\n",
       "      <td>2</td>\n",
       "      <td>0</td>\n",
       "      <td>0</td>\n",
       "    </tr>\n",
       "    <tr>\n",
       "      <th>4</th>\n",
       "      <td>2020-01-26</td>\n",
       "      <td>5</td>\n",
       "      <td>0</td>\n",
       "      <td>0</td>\n",
       "    </tr>\n",
       "  </tbody>\n",
       "</table>\n",
       "</div>"
      ],
      "text/plain": [
       "        date positive death recovered\n",
       "0 2020-01-22        1     0         0\n",
       "1 2020-01-23        1     0         0\n",
       "2 2020-01-24        2     0         0\n",
       "3 2020-01-25        2     0         0\n",
       "4 2020-01-26        5     0         0"
      ]
     },
     "execution_count": 13,
     "metadata": {},
     "output_type": "execute_result"
    }
   ],
   "source": [
    "us_status.head()"
   ]
  },
  {
   "cell_type": "markdown",
   "metadata": {},
   "source": [
    "### Italy"
   ]
  },
  {
   "cell_type": "code",
   "execution_count": 14,
   "metadata": {},
   "outputs": [],
   "source": [
    "itl_confirmed = extract_national_data(Confirmed, 'Italy', 'positive')\n",
    "itl_death = extract_national_data(Death, 'Italy', 'death')\n",
    "itl_recovered = extract_national_data(Recovered, 'Italy', 'recovered')"
   ]
  },
  {
   "cell_type": "code",
   "execution_count": 15,
   "metadata": {},
   "outputs": [],
   "source": [
    "itl_status = join_national_data(itl_confirmed, itl_death, itl_recovered)"
   ]
  },
  {
   "cell_type": "code",
   "execution_count": 17,
   "metadata": {},
   "outputs": [
    {
     "data": {
      "text/html": [
       "<div>\n",
       "<style scoped>\n",
       "    .dataframe tbody tr th:only-of-type {\n",
       "        vertical-align: middle;\n",
       "    }\n",
       "\n",
       "    .dataframe tbody tr th {\n",
       "        vertical-align: top;\n",
       "    }\n",
       "\n",
       "    .dataframe thead th {\n",
       "        text-align: right;\n",
       "    }\n",
       "</style>\n",
       "<table border=\"1\" class=\"dataframe\">\n",
       "  <thead>\n",
       "    <tr style=\"text-align: right;\">\n",
       "      <th></th>\n",
       "      <th>date</th>\n",
       "      <th>positive</th>\n",
       "      <th>death</th>\n",
       "      <th>recovered</th>\n",
       "    </tr>\n",
       "  </thead>\n",
       "  <tbody>\n",
       "    <tr>\n",
       "      <th>0</th>\n",
       "      <td>2020-01-22</td>\n",
       "      <td>0</td>\n",
       "      <td>0</td>\n",
       "      <td>0</td>\n",
       "    </tr>\n",
       "    <tr>\n",
       "      <th>1</th>\n",
       "      <td>2020-01-23</td>\n",
       "      <td>0</td>\n",
       "      <td>0</td>\n",
       "      <td>0</td>\n",
       "    </tr>\n",
       "    <tr>\n",
       "      <th>2</th>\n",
       "      <td>2020-01-24</td>\n",
       "      <td>0</td>\n",
       "      <td>0</td>\n",
       "      <td>0</td>\n",
       "    </tr>\n",
       "    <tr>\n",
       "      <th>3</th>\n",
       "      <td>2020-01-25</td>\n",
       "      <td>0</td>\n",
       "      <td>0</td>\n",
       "      <td>0</td>\n",
       "    </tr>\n",
       "    <tr>\n",
       "      <th>4</th>\n",
       "      <td>2020-01-26</td>\n",
       "      <td>0</td>\n",
       "      <td>0</td>\n",
       "      <td>0</td>\n",
       "    </tr>\n",
       "  </tbody>\n",
       "</table>\n",
       "</div>"
      ],
      "text/plain": [
       "        date positive death recovered\n",
       "0 2020-01-22        0     0         0\n",
       "1 2020-01-23        0     0         0\n",
       "2 2020-01-24        0     0         0\n",
       "3 2020-01-25        0     0         0\n",
       "4 2020-01-26        0     0         0"
      ]
     },
     "execution_count": 17,
     "metadata": {},
     "output_type": "execute_result"
    }
   ],
   "source": [
    "itl_status.head()"
   ]
  },
  {
   "cell_type": "markdown",
   "metadata": {},
   "source": [
    "### France"
   ]
  },
  {
   "cell_type": "code",
   "execution_count": 18,
   "metadata": {},
   "outputs": [],
   "source": [
    "frc_confirmed = extract_national_data(Confirmed, 'France', 'positive')\n",
    "frc_death = extract_national_data(Death, 'France', 'death')\n",
    "frc_recovered = extract_national_data(Recovered, 'France', 'recovered')"
   ]
  },
  {
   "cell_type": "code",
   "execution_count": 19,
   "metadata": {},
   "outputs": [],
   "source": [
    "frc_status = join_national_data(frc_confirmed, frc_death, frc_recovered)"
   ]
  },
  {
   "cell_type": "code",
   "execution_count": 20,
   "metadata": {},
   "outputs": [
    {
     "data": {
      "text/html": [
       "<div>\n",
       "<style scoped>\n",
       "    .dataframe tbody tr th:only-of-type {\n",
       "        vertical-align: middle;\n",
       "    }\n",
       "\n",
       "    .dataframe tbody tr th {\n",
       "        vertical-align: top;\n",
       "    }\n",
       "\n",
       "    .dataframe thead th {\n",
       "        text-align: right;\n",
       "    }\n",
       "</style>\n",
       "<table border=\"1\" class=\"dataframe\">\n",
       "  <thead>\n",
       "    <tr style=\"text-align: right;\">\n",
       "      <th></th>\n",
       "      <th>date</th>\n",
       "      <th>positive</th>\n",
       "      <th>death</th>\n",
       "      <th>recovered</th>\n",
       "    </tr>\n",
       "  </thead>\n",
       "  <tbody>\n",
       "    <tr>\n",
       "      <th>0</th>\n",
       "      <td>2020-01-22</td>\n",
       "      <td>0</td>\n",
       "      <td>0</td>\n",
       "      <td>0</td>\n",
       "    </tr>\n",
       "    <tr>\n",
       "      <th>1</th>\n",
       "      <td>2020-01-23</td>\n",
       "      <td>0</td>\n",
       "      <td>0</td>\n",
       "      <td>0</td>\n",
       "    </tr>\n",
       "    <tr>\n",
       "      <th>2</th>\n",
       "      <td>2020-01-24</td>\n",
       "      <td>2</td>\n",
       "      <td>0</td>\n",
       "      <td>0</td>\n",
       "    </tr>\n",
       "    <tr>\n",
       "      <th>3</th>\n",
       "      <td>2020-01-25</td>\n",
       "      <td>3</td>\n",
       "      <td>0</td>\n",
       "      <td>0</td>\n",
       "    </tr>\n",
       "    <tr>\n",
       "      <th>4</th>\n",
       "      <td>2020-01-26</td>\n",
       "      <td>3</td>\n",
       "      <td>0</td>\n",
       "      <td>0</td>\n",
       "    </tr>\n",
       "  </tbody>\n",
       "</table>\n",
       "</div>"
      ],
      "text/plain": [
       "        date positive death recovered\n",
       "0 2020-01-22        0     0         0\n",
       "1 2020-01-23        0     0         0\n",
       "2 2020-01-24        2     0         0\n",
       "3 2020-01-25        3     0         0\n",
       "4 2020-01-26        3     0         0"
      ]
     },
     "metadata": {},
     "output_type": "display_data"
    }
   ],
   "source": [
    "display(frc_status.head())"
   ]
  },
  {
   "cell_type": "markdown",
   "metadata": {},
   "source": [
    "<a id=\"eda\"></a>\n",
    "## Exploratory Data Analysis\n",
    "## The modified SEIRS Model"
   ]
  },
  {
   "cell_type": "markdown",
   "metadata": {},
   "source": [
    "Inspired by Kaike Wesley Reis's work on SEIR model in Kaggle community, I generated a modified SEIRS model for COVID-19.\n",
    "More information about SEIRS model could be found [here.](https://www.idmod.org/docs/hiv/model-seir.html#:~:text=The%20SEIR%20model%20assumes%20people,return%20to%20a%20susceptible%20state)"
   ]
  },
  {
   "cell_type": "markdown",
   "metadata": {},
   "source": [
    "In a closed population without births or deaths, the SEIRS model is:"
   ]
  },
  {
   "cell_type": "markdown",
   "metadata": {},
   "source": [
    "<a href=\"https://www.codecogs.com/eqnedit.php?latex=\\frac{\\mathrm{d}S&space;}{\\mathrm{d}&space;t}=&space;-\\beta&space;SI&plus;\\xi&space;R\" target=\"_blank\"><img src=\"https://latex.codecogs.com/gif.latex?\\frac{\\mathrm{d}S&space;}{\\mathrm{d}&space;t}=&space;-\\beta&space;SI&plus;\\xi&space;R\" title=\"\\frac{\\mathrm{d}S }{\\mathrm{d} t}= -\\beta SI+\\xi R\" /></a>\n",
    "\n",
    "<a href=\"https://www.codecogs.com/eqnedit.php?latex=\\frac{\\mathrm{d}E&space;}{\\mathrm{d}&space;t}=\\frac{\\beta&space;SI}{N}-\\sigma&space;E\" target=\"_blank\"><img src=\"https://latex.codecogs.com/gif.latex?\\frac{\\mathrm{d}E&space;}{\\mathrm{d}&space;t}=\\beta&space;SI-\\sigma&space;E\" title=\"\\frac{\\mathrm{d}E }{\\mathrm{d} t}=\\beta SI-\\sigma E\" /></a>\n",
    "\n",
    "<a href=\"https://www.codecogs.com/eqnedit.php?latex=\\frac{\\mathrm{d}I&space;}{\\mathrm{d}&space;t}=\\sigma&space;E-\\gamma&space;I\" target=\"_blank\"><img src=\"https://latex.codecogs.com/gif.latex?\\frac{\\mathrm{d}I&space;}{\\mathrm{d}&space;t}=\\sigma&space;E-\\gamma&space;I\" title=\"\\frac{\\mathrm{d}I }{\\mathrm{d} t}=\\sigma E-\\gamma I\" /></a>\n",
    "\n",
    "<a href=\"https://www.codecogs.com/eqnedit.php?latex=\\frac{\\mathrm{d}R&space;}{\\mathrm{d}&space;t}=&space;\\gamma&space;I&space;-&space;\\xi&space;R\" target=\"_blank\"><img src=\"https://latex.codecogs.com/gif.latex?\\frac{\\mathrm{d}R&space;}{\\mathrm{d}&space;t}=&space;\\gamma&space;I&space;-&space;\\xi&space;R\" title=\"\\frac{\\mathrm{d}R }{\\mathrm{d} t}= \\gamma I - \\xi R\" /></a>"
   ]
  },
  {
   "cell_type": "markdown",
   "metadata": {},
   "source": [
    "Where S, E, I, R is the proportion of suceptible, exposed, infectious and recovered population."
   ]
  },
  {
   "cell_type": "markdown",
   "metadata": {},
   "source": [
    "In the case of COVID-19, the viral carriers (\"exposed population) do not exhibit symptoms, yet are infectious. So, the SEIR model is modified as below:"
   ]
  },
  {
   "cell_type": "markdown",
   "metadata": {},
   "source": [
    "<a href=\"https://www.codecogs.com/eqnedit.php?latex=\\frac{\\mathrm{d}S&space;}{\\mathrm{d}&space;t}=&space;-\\frac{\\beta&space;S(I&plus;E)}{N}&plus;\\xi&space;R\" target=\"_blank\"><img src=\"https://latex.codecogs.com/gif.latex?\\frac{\\mathrm{d}S&space;}{\\mathrm{d}&space;t}=&space;-\\beta&space;S(I&plus;E)&plus;\\xi&space;R\" title=\"\\frac{\\mathrm{d}S }{\\mathrm{d} t}= -\\frac{\\beta S(I+E)}{N}+\\xi R\" /></a>\n",
    "\n",
    "<a href=\"https://www.codecogs.com/eqnedit.php?latex=\\frac{\\mathrm{d}E&space;}{\\mathrm{d}&space;t}=\\frac{\\beta&space;S(I&plus;E)}{N}-\\sigma&space;E\" target=\"_blank\"><img src=\"https://latex.codecogs.com/gif.latex?\\frac{\\mathrm{d}E&space;}{\\mathrm{d}&space;t}=\\beta&space;S(I&plus;E)-\\sigma&space;E\" title=\"\\frac{\\mathrm{d}E }{\\mathrm{d} t}=\\frac{\\beta S(I+E)}{N}-\\sigma E\" /></a>\n",
    "\n",
    "<a href=\"https://www.codecogs.com/eqnedit.php?latex=\\frac{\\mathrm{d}I&space;}{\\mathrm{d}&space;t}=\\sigma&space;E-\\gamma&space;I-\\theta&space;I\" target=\"_blank\"><img src=\"https://latex.codecogs.com/gif.latex?\\frac{\\mathrm{d}I&space;}{\\mathrm{d}&space;t}=\\sigma&space;E-\\gamma&space;I-\\theta&space;I\" title=\"\\frac{\\mathrm{d}I }{\\mathrm{d} t}=\\sigma E-\\gamma I-\\theta I\" /></a>\n",
    "\n",
    "<a href=\"https://www.codecogs.com/eqnedit.php?latex=\\frac{\\mathrm{d}D&space;}{\\mathrm{d}&space;t}=\\theta&space;I\" target=\"_blank\"><img src=\"https://latex.codecogs.com/gif.latex?\\frac{\\mathrm{d}D&space;}{\\mathrm{d}&space;t}=\\theta&space;I\" title=\"\\frac{\\mathrm{d}D }{\\mathrm{d} t}=\\theta I\" /></a>\n",
    "\n",
    "<a href=\"https://www.codecogs.com/eqnedit.php?latex=\\frac{\\mathrm{d}R&space;}{\\mathrm{d}&space;t}=&space;\\gamma&space;I&space;-&space;\\xi&space;R\" target=\"_blank\"><img src=\"https://latex.codecogs.com/gif.latex?\\frac{\\mathrm{d}R&space;}{\\mathrm{d}&space;t}=&space;\\gamma&space;I&space;-&space;\\xi&space;R\" title=\"\\frac{\\mathrm{d}R }{\\mathrm{d} t}= \\gamma I - \\xi R\" /></a>"
   ]
  },
  {
   "cell_type": "markdown",
   "metadata": {},
   "source": [
    "Where S, E, I, D, R is the proportion of suceptible, exposed, infectious, dead and recovered population."
   ]
  },
  {
   "cell_type": "markdown",
   "metadata": {},
   "source": [
    "Here, we included the \"exposed population\" in the first and second formula, because it participates in the viral transmission."
   ]
  },
  {
   "cell_type": "markdown",
   "metadata": {},
   "source": [
    "Accordingly, we modified the functions as below:"
   ]
  },
  {
   "cell_type": "code",
   "execution_count": 21,
   "metadata": {},
   "outputs": [],
   "source": [
    "# Function\n",
    "def seir_model_ode(y,t, params): \n",
    "    '''\n",
    "    Arguments:\n",
    "    - y: dependent variables\n",
    "    - t: independent variable (time)\n",
    "    - params: Model parameters\n",
    "    '''\n",
    "    # Parameters to find\n",
    "    infection_rate = params[0]\n",
    "    recovery_rate = params[1]\n",
    "    exposed_rate = params[2]\n",
    "    death_rate = params[3]\n",
    "    reinfection_rate = params[4]\n",
    "    \n",
    "    # Y variables\n",
    "    s = y[0]\n",
    "    e = y[1]\n",
    "    i = y[2]\n",
    "    d = y[3]\n",
    "    r = y[4]\n",
    "    \n",
    "    # SIR ODE System \n",
    "    dsdt = -exposed_rate*s*(i+e) + reinfection_rate*r\n",
    "    dedt = (exposed_rate*s*(i+e)) - (infection_rate*e)\n",
    "    didt = (infection_rate*e) - (recovery_rate*i) - (death_rate*i)\n",
    "    dddt = death_rate*i\n",
    "    drdt = recovery_rate*i - reinfection_rate*r\n",
    "    \n",
    "    # Return our system\n",
    "    return (dsdt, dedt, didt, dddt, drdt)"
   ]
  },
  {
   "cell_type": "code",
   "execution_count": 22,
   "metadata": {},
   "outputs": [],
   "source": [
    "# FUNCTION - Calculate SEIR Model in t (time as days) based on given parameters\n",
    "def calculate_seir_model(params, t, initial_condition):\n",
    "    # Create an alias to our seir ode model to pass params to try\n",
    "    seir_ode = lambda y,t:seir_model_ode(y,t, params)\n",
    "    \n",
    "    # Calculate ode solution, return values to each\n",
    "    ode_result = integrate.odeint(func=seir_ode, y0=initial_condition, t=t)\n",
    "    \n",
    "    # Return results\n",
    "    return ode_result"
   ]
  },
  {
   "cell_type": "code",
   "execution_count": 23,
   "metadata": {},
   "outputs": [],
   "source": [
    "# FUNCTION - Auxiliar function to find the best parameters\n",
    "def fit_seir_model(params_to_fit, t, initial_condition, i_r_true):\n",
    "    # Calculate ODE solution for possible parameter, return values to each dependent variable:\n",
    "    # (s, e, i and r)\n",
    "    fit_result = calculate_seir_model(params_to_fit, t, initial_condition)\n",
    "    \n",
    "    # Calculate residual value between predicted VS true\n",
    "    ## Note: ode_result[0] is S result\n",
    "    residual_i = i_r_true[0] - fit_result[:,2]\n",
    "    residual_d = i_r_true[1] - fit_result[:,3]\n",
    "    residual_r = i_r_true[2] - fit_result[:,4]\n",
    "    \n",
    "    # Create a np.array of all residual values for both (i) and (r)\n",
    "    residual = np.concatenate((residual_i, residual_d, residual_r))\n",
    "    \n",
    "    # Return results\n",
    "    return residual"
   ]
  },
  {
   "cell_type": "code",
   "execution_count": 42,
   "metadata": {},
   "outputs": [],
   "source": [
    "def countryLockdown(N, status,lockdownDay,countryName):\n",
    "    \n",
    "    \"\"\"inputs:\n",
    "    N: population in the country\n",
    "    status: dataframe of the country\n",
    "    lockdownDay: number of days since begining of data to the date of lockdown\n",
    "    \"\"\"\n",
    "    \n",
    "    # Define Initial Condition before lockdown\n",
    "    I_start = status.loc[0, 'positive']/N\n",
    "    E_start = (status.loc[14, 'positive'] - status.loc[0, 'positive'])/N\n",
    "    S_start = 1 - E_start - I_start\n",
    "    D_start = 0\n",
    "    R_start = status.loc[0, 'recovered']/N\n",
    "    \n",
    "    # Set this values as a tuple of initial condition\n",
    "    ic = (S_start, E_start, I_start, D_start, R_start)\n",
    "    \n",
    "    # Create a tuple with the true values in fraction for Infected/Recovered cases (necessary for error measurement)\n",
    "    beforelockdown=status.loc[0:lockdownDay]\n",
    "    afterlockdown=status.loc[lockdownDay+1:]\n",
    "    i_r_true_bf = (list(beforelockdown['positive']/N),list(beforelockdown['death']/N), list(beforelockdown['recovered']/N))\n",
    "    i_r_true_af = (list(afterlockdown['positive']/N), list(afterlockdown['death']/N), list(afterlockdown['recovered']/N))\n",
    "\n",
    "    # Define a time array measure in days\n",
    "    time_opt_bf = range(0, lockdownDay+1)\n",
    "    time_opt_af = range(0, len(afterlockdown))\n",
    "    time_opt =range(0,len(status))\n",
    "    \n",
    "    \n",
    "    # define initial condition after lockdown\n",
    "    E_start_day = min(len(status['date']),len(beforelockdown)+14)\n",
    "    \n",
    "    E_start_af = (status.loc[E_start_day, 'positive'] - status.loc[len(beforelockdown), 'positive'])/N\n",
    "    I_start_af = status.loc[len(beforelockdown), 'positive']/N\n",
    "    S_start_af = 1 - E_start_af - I_start_af\n",
    "    D_start_af = status.loc[len(beforelockdown), 'death']/N\n",
    "    R_start_af = status.loc[len(beforelockdown), 'recovered']/N\n",
    "   \n",
    "    # Set this values as a tuple\n",
    "    ic_af = (S_start_af, E_start_af, I_start_af, D_start_af, R_start_af)\n",
    "    \n",
    "    # Define a start guess for our parameters [infection_rate, recovered rate]\n",
    "    params_start_guess = [0.00, 0.000, 0.0, 0.00, 0.00]\n",
    "    optimal_params, sucess = optimize.leastsq(fit_seir_model,\n",
    "                                          x0=params_start_guess,\n",
    "                                          args=(time_opt_bf, ic, i_r_true_bf),\n",
    "                                          ftol=1.49012e-22)\n",
    "    optimal_params_af, sucess = optimize.leastsq(fit_seir_model,\n",
    "                                          x0=params_start_guess,\n",
    "                                          args=(time_opt_af, ic_af, i_r_true_af),\n",
    "                                          ftol=1.49012e-22)\n",
    "    \n",
    "    print('## '+countryName+' before lockdown')\n",
    "    print('Optimized infection rate: ', optimal_params[0])\n",
    "    print('Optimized recovered rate: ', optimal_params[1])\n",
    "    print('Optimized exposed rate: ', optimal_params[2])\n",
    "    print('Optimized death rate: ', optimal_params[3])\n",
    "    print('Optimized reinfection rate: ', optimal_params[4])\n",
    "    print('\\n')\n",
    "    print('## '+countryName+' after lockdown')\n",
    "    print('Optimize infection rate: ', optimal_params_af[0])\n",
    "    print('Optimize recovered rate: ', optimal_params_af[1])\n",
    "    print('Optimize exposed rate: ', optimal_params_af[2])\n",
    "    print('Optimized death rate: ', optimal_params_af[3])\n",
    "    print('Optimized reinfection rate: ', optimal_params_af[4])\n",
    "            \n",
    "            \n",
    "    # Fit test\n",
    "    ## Get the optimal parameters\n",
    "    ir = optimal_params[0]\n",
    "    rr = optimal_params[1]\n",
    "    er = optimal_params[2]\n",
    "    dr = optimal_params[3]\n",
    "    rir = optimal_params[4]\n",
    "    ir_af = optimal_params_af[0]\n",
    "    rr_af = optimal_params_af[1]\n",
    "    er_af = optimal_params_af[2]\n",
    "    dr_af = optimal_params_af[3]\n",
    "    rir_af = optimal_params_af[4]\n",
    "    \n",
    "    ## Calculate a curve based on those parameters\n",
    "    fit_result_bf = calculate_seir_model((ir, rr, er, dr, rir), time_opt_bf, ic)\n",
    "    fit_result_af = calculate_seir_model((ir_af, rr_af, er_af, dr_af, rir_af), time_opt_af, ic_af)\n",
    "    print(fit_result_af[0,2])\n",
    "    print(ic_af[2])\n",
    "    ## Define plot object\n",
    "    fig, (ax1, ax2, ax3) = plt.subplots(nrows=1, ncols=3, sharey=True, sharex=True, figsize=[18, 5])\n",
    "    fig.text(0.5, 0.04, 'Number of days after Jan-22nd 2020', ha='center', fontsize=12)\n",
    "    ## Plot real and predicted infection\n",
    "    ax1.set_title('Infected cases in '+ countryName,fontsize=20)\n",
    "    ax1.plot(time_opt, i_r_true_bf[0]+i_r_true_af[0], 'ro', markersize = 0.3)\n",
    "    ax1.plot(time_opt, np.hstack((fit_result_bf[:,2],fit_result_af[:,2])), 'co', markersize=0.3)\n",
    "    ax1.legend(['Actual infection', 'Predicted infection'],loc=2, fontsize=12)\n",
    "    ax1.set_ylabel('Proportion of population', fontsize=12)\n",
    "    \n",
    "    ## Plot real and predicted death\n",
    "    ax2.set_title('Death cases in '+ countryName,fontsize=20)\n",
    "    ax2.plot(time_opt, i_r_true_bf[1]+i_r_true_af[1], 'ro', markersize = .3)\n",
    "    ax2.plot(time_opt, np.hstack((fit_result_bf[:,3],fit_result_af[:,3])), 'bo', markersize=0.3)\n",
    "    ax2.legend(['Actual death', 'Predicted death'],loc=2, fontsize=12)\n",
    "    \n",
    "    ## Plot real and predicted recover\n",
    "    ax3.set_title('Recovered cases in '+countryName,fontsize=20)      \n",
    "    ax3.plot(time_opt, i_r_true_bf[2]+i_r_true_af[2], 'ro', markersize = .3)\n",
    "    ax3.plot(time_opt, np.hstack((fit_result_bf[:,4],fit_result_af[:,4])), 'go', markersize=0.3)\n",
    "    ax3.legend(['Real recover', 'Predicted recover'],loc=2, fontsize=12)\n",
    "    \n",
    "\n",
    "    \n",
    "    # Prediction\n",
    "    ## Get prediction full period time in datetime object and the convert to string\n",
    "    datetime_pred = pd.date_range(start=\"2020-02-01\",end=\"2021-01-01\", freq='D')\n",
    "    pred_time = [x.strftime(\"%Y-%m-%d\") for x in datetime_pred]\n",
    "    pred_range = range(0, len(pred_time))\n",
    "    pred_result = calculate_seir_model((ir_af, rr_af, er_af, dr_af, rir_af), pred_range, ic_af)\n",
    "    time_axis = [pred_time[i] for i in[0, 29, 60, 90, 121, 151, 182, 213, 243, 274, 304, 335]]\n",
    "    time_labels = ['Feb.', 'Mar.', 'Apr.', 'May', 'June', 'July', 'Aug.', 'Sept.', 'Oct.', 'Nov.', 'Dec.', 'Jan.']\n",
    "    ## Plot SEIDR\n",
    "    fig, ax = plt.subplots(figsize=[12,10])\n",
    "    ax.plot(pred_time, pred_result[:,0],color='blue') #susceptible\n",
    "    ax.plot(pred_time, pred_result[:,1],color='red') #exposed\n",
    "    ax.plot(pred_time, pred_result[:,2],color='cyan') #infected\n",
    "    ax.plot(pred_time, pred_result[:,3], color = 'black') #death\n",
    "    ax.plot(pred_time, pred_result[:,4],color='green') #recovered\n",
    "    ax.legend(loc=1, labels=['Susceptible', 'Exposed', 'Infected', 'Death', 'Recovered'], fontsize=8)\n",
    "    ax.set_title('SEIR predictions', fontsize=20)\n",
    "    ax.set_xlabel('Month', fontsize=12)\n",
    "    ax.set_ylabel('Proportion of population', fontsize=12)\n",
    "    plt.xticks(time_axis, time_labels, rotation='vertical');"
   ]
  },
  {
   "cell_type": "markdown",
   "metadata": {},
   "source": [
    "# Case study\n",
    "# United States"
   ]
  },
  {
   "cell_type": "code",
   "execution_count": 43,
   "metadata": {},
   "outputs": [
    {
     "name": "stderr",
     "output_type": "stream",
     "text": [
      "/Applications/anaconda3/lib/python3.7/site-packages/ipykernel_launcher.py:26: RuntimeWarning: overflow encountered in double_scalars\n",
      "/Applications/anaconda3/lib/python3.7/site-packages/ipykernel_launcher.py:24: RuntimeWarning: invalid value encountered in double_scalars\n",
      "/Applications/anaconda3/lib/python3.7/site-packages/ipykernel_launcher.py:25: RuntimeWarning: invalid value encountered in double_scalars\n",
      "/Applications/anaconda3/lib/python3.7/site-packages/ipykernel_launcher.py:28: RuntimeWarning: invalid value encountered in double_scalars\n",
      "/Applications/anaconda3/lib/python3.7/site-packages/scipy/integrate/odepack.py:248: ODEintWarning: Illegal input detected (internal error). Run with full_output = 1 to get quantitative information.\n",
      "  warnings.warn(warning_msg, ODEintWarning)\n",
      "/Applications/anaconda3/lib/python3.7/site-packages/scipy/integrate/odepack.py:248: ODEintWarning: Excess work done on this call (perhaps wrong Dfun type). Run with full_output = 1 to get quantitative information.\n",
      "  warnings.warn(warning_msg, ODEintWarning)\n",
      "/Applications/anaconda3/lib/python3.7/site-packages/ipykernel_launcher.py:24: RuntimeWarning: overflow encountered in double_scalars\n",
      "/Applications/anaconda3/lib/python3.7/site-packages/ipykernel_launcher.py:28: RuntimeWarning: overflow encountered in double_scalars\n"
     ]
    },
    {
     "name": "stdout",
     "output_type": "stream",
     "text": [
      "## US before lockdown\n",
      "Optimized infection rate:  -0.02072433643564193\n",
      "Optimized recovered rate:  -0.11745424518100654\n",
      "Optimized exposed rate:  2.6481869039540737e-14\n",
      "Optimized death rate:  -0.11378420347176893\n",
      "Optimized reinfection rate:  1.4281884851532007e-16\n",
      "\n",
      "\n",
      "## US after lockdown\n",
      "Optimize infection rate:  0.6700088046599927\n",
      "Optimize recovered rate:  0.017136009749583098\n",
      "Optimize exposed rate:  0.03324105919474344\n",
      "Optimized death rate:  0.0005338859363165548\n",
      "Optimized reinfection rate:  0.028327629088671726\n",
      "7.934451219512195e-05\n",
      "7.934451219512195e-05\n"
     ]
    },
    {
     "data": {
      "image/png": "[encoded data removed]",
      "text/plain": [
       "<Figure size 1296x360 with 3 Axes>"
      ]
     },
     "metadata": {
      "needs_background": "light"
     },
     "output_type": "display_data"
    },
    {
     "data": {
      "image/png": "[encoded data removed]",
      "text/plain": [
       "<Figure size 864x720 with 1 Axes>"
      ]
     },
     "metadata": {
      "needs_background": "light"
     },
     "output_type": "display_data"
    }
   ],
   "source": [
    "countryLockdown(328*1e6,us_status,58,'US');"
   ]
  },
  {
   "cell_type": "markdown",
   "metadata": {},
   "source": [
    "# Italy"
   ]
  },
  {
   "cell_type": "code",
   "execution_count": 44,
   "metadata": {},
   "outputs": [
    {
     "name": "stderr",
     "output_type": "stream",
     "text": [
      "/Applications/anaconda3/lib/python3.7/site-packages/scipy/integrate/odepack.py:248: ODEintWarning: Excess work done on this call (perhaps wrong Dfun type). Run with full_output = 1 to get quantitative information.\n",
      "  warnings.warn(warning_msg, ODEintWarning)\n",
      "/Applications/anaconda3/lib/python3.7/site-packages/ipykernel_launcher.py:24: RuntimeWarning: overflow encountered in double_scalars\n",
      "/Applications/anaconda3/lib/python3.7/site-packages/ipykernel_launcher.py:28: RuntimeWarning: overflow encountered in double_scalars\n",
      "/Applications/anaconda3/lib/python3.7/site-packages/ipykernel_launcher.py:24: RuntimeWarning: invalid value encountered in double_scalars\n",
      "/Applications/anaconda3/lib/python3.7/site-packages/ipykernel_launcher.py:25: RuntimeWarning: invalid value encountered in double_scalars\n",
      "/Applications/anaconda3/lib/python3.7/site-packages/scipy/integrate/odepack.py:248: ODEintWarning: Illegal input detected (internal error). Run with full_output = 1 to get quantitative information.\n",
      "  warnings.warn(warning_msg, ODEintWarning)\n"
     ]
    },
    {
     "name": "stdout",
     "output_type": "stream",
     "text": [
      "## Italy before lockdown\n",
      "Optimized infection rate:  23.49478386341659\n",
      "Optimized recovered rate:  -0.00019647883047413148\n",
      "Optimized exposed rate:  5.779513973329028e-05\n",
      "Optimized death rate:  -0.00012317907518423718\n",
      "Optimized reinfection rate:  9.552203359050391e-09\n",
      "\n",
      "\n",
      "## Italy after lockdown\n",
      "Optimize infection rate:  0.41009977377508966\n",
      "Optimize recovered rate:  0.02932876142623\n",
      "Optimize exposed rate:  0.036745027223247136\n",
      "Optimized death rate:  0.001107735680498729\n",
      "Optimized reinfection rate:  0.03588400399262493\n",
      "0.00016814115308151094\n",
      "0.00016814115308151094\n"
     ]
    },
    {
     "data": {
      "image/png": "[encoded data removed]",
      "text/plain": [
       "<Figure size 1296x360 with 3 Axes>"
      ]
     },
     "metadata": {
      "needs_background": "light"
     },
     "output_type": "display_data"
    },
    {
     "data": {
      "image/png": "[encoded data removed]",
      "text/plain": [
       "<Figure size 864x720 with 1 Axes>"
      ]
     },
     "metadata": {
      "needs_background": "light"
     },
     "output_type": "display_data"
    }
   ],
   "source": [
    "countryLockdown(60.36*1e6, itl_status,47,'Italy')"
   ]
  },
  {
   "cell_type": "markdown",
   "metadata": {},
   "source": [
    "# France"
   ]
  },
  {
   "cell_type": "code",
   "execution_count": 45,
   "metadata": {},
   "outputs": [
    {
     "name": "stderr",
     "output_type": "stream",
     "text": [
      "/Applications/anaconda3/lib/python3.7/site-packages/scipy/integrate/odepack.py:248: ODEintWarning: Excess work done on this call (perhaps wrong Dfun type). Run with full_output = 1 to get quantitative information.\n",
      "  warnings.warn(warning_msg, ODEintWarning)\n",
      "/Applications/anaconda3/lib/python3.7/site-packages/ipykernel_launcher.py:24: RuntimeWarning: overflow encountered in double_scalars\n",
      "/Applications/anaconda3/lib/python3.7/site-packages/ipykernel_launcher.py:28: RuntimeWarning: overflow encountered in double_scalars\n",
      "/Applications/anaconda3/lib/python3.7/site-packages/ipykernel_launcher.py:24: RuntimeWarning: invalid value encountered in double_scalars\n",
      "/Applications/anaconda3/lib/python3.7/site-packages/ipykernel_launcher.py:25: RuntimeWarning: invalid value encountered in double_scalars\n",
      "/Applications/anaconda3/lib/python3.7/site-packages/scipy/integrate/odepack.py:248: ODEintWarning: Illegal input detected (internal error). Run with full_output = 1 to get quantitative information.\n",
      "  warnings.warn(warning_msg, ODEintWarning)\n"
     ]
    },
    {
     "name": "stdout",
     "output_type": "stream",
     "text": [
      "## France before lockdown\n",
      "Optimized infection rate:  4.5239506658741355\n",
      "Optimized recovered rate:  -0.0008754773778657648\n",
      "Optimized exposed rate:  0.0005781438234049614\n",
      "Optimized death rate:  -0.0007599501893359333\n",
      "Optimized reinfection rate:  1.91631174848564e-05\n",
      "\n",
      "\n",
      "## France after lockdown\n",
      "Optimize infection rate:  -0.0012627354792886737\n",
      "Optimize recovered rate:  -0.029219576753542833\n",
      "Optimize exposed rate:  0.016902283535429673\n",
      "Optimized death rate:  0.0009354901490348888\n",
      "Optimized reinfection rate:  179.58632353895874\n",
      "0.0001361994327511569\n",
      "0.0001361994327511569\n"
     ]
    },
    {
     "data": {
      "image/png": "[encoded data removed]",
      "text/plain": [
       "<Figure size 1296x360 with 3 Axes>"
      ]
     },
     "metadata": {
      "needs_background": "light"
     },
     "output_type": "display_data"
    },
    {
     "data": {
      "image/png": "[encoded data removed]",
      "text/plain": [
       "<Figure size 864x720 with 1 Axes>"
      ]
     },
     "metadata": {
      "needs_background": "light"
     },
     "output_type": "display_data"
    }
   ],
   "source": [
    "countryLockdown(66.99*1e6,frc_status,55,'France')\n"
   ]
  },
  {
   "cell_type": "markdown",
   "metadata": {},
   "source": [
    "<a id=\"conclusion\"></a>\n",
    "## Conclusion\n",
    "This model fits well with the current data in US, Italy and France. \n",
    "As COVID-19 continues to spread across the country and the world, we should remain calm and take actions to slow down its spreading.\n"
   ]
  },
  {
   "cell_type": "code",
   "execution_count": null,
   "metadata": {},
   "outputs": [],
   "source": []
  }
 ],
 "metadata": {
  "kernelspec": {
   "display_name": "Python 3",
   "language": "python",
   "name": "python3"
  },
  "language_info": {
   "codemirror_mode": {
    "name": "ipython",
    "version": 3
   },
   "file_extension": ".py",
   "mimetype": "text/x-python",
   "name": "python",
   "nbconvert_exporter": "python",
   "pygments_lexer": "ipython3",
   "version": "3.7.6"
  }
 },
 "nbformat": 4,
 "nbformat_minor": 4
}
